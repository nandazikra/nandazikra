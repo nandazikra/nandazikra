{
 "cells": [
  {
   "cell_type": "markdown",
   "metadata": {},
   "source": [
    "#  TUGAS ARRAY"
   ]
  },
  {
   "cell_type": "markdown",
   "metadata": {},
   "source": [
    "#PERKALIAN MATRIX"
   ]
  },
  {
   "cell_type": "code",
   "execution_count": 6,
   "metadata": {},
   "outputs": [
    {
     "name": "stdout",
     "output_type": "stream",
     "text": [
      "Hasil perkalian matriks M x M x M adalah:\n",
      "[[188560  50204  20398]\n",
      " [101829 221509  85491]\n",
      " [198016 280910 106163]]\n"
     ]
    }
   ],
   "source": [
    "import numpy as np\n",
    "\n",
    "# Diketahui vektor-vektor A, B, dan C\n",
    "A = np.array([56, 4, 2])\n",
    "B = np.array([3, 43, 21])\n",
    "C = np.array([32, 66, 13])\n",
    "\n",
    "# Membentuk matriks M dari vektor-vektor tersebut\n",
    "M = np.array([A, B, C])\n",
    "\n",
    "# Menghitung perkalian matriks M x M x M\n",
    "result = np.dot(np.dot(M, M), M)\n",
    "\n",
    "# Menampilkan hasil\n",
    "print(\"Hasil perkalian matriks M x M x M adalah:\")\n",
    "print(result)"
   ]
  },
  {
   "cell_type": "code",
   "execution_count": null,
   "metadata": {},
   "outputs": [],
   "source": [
    "PENJELASAN: \n",
    "1. Mengimport numpy yang merupakan pustaka Python yang digunakan untuk bekerja dengan array dan matriks.\n",
    "2. mendefinisikan tiga vektor A, B, dan C menggunakan np.array, yang merupakan cara untuk membuat array NumPy.\n",
    "3. membentuk matriks M dengan menggabungkan vektor-vektor A, B, dan C menjadi satu matriks. Matriks M sekarang adalah\n",
    "   matriks 3x3 dengan setiap barisnya adalah salah satu vektor.\n",
    "4. np.dot(np.dot(M, M), M) kemudian mengalikan hasil dari M x M dengan M lagi (yang menghasilkan matriks hasil kali M x M x M).\n",
    "5.  mencetak string \"Hasil perkalian matriks M x M x M adalah:\" diikuti dengan hasil perkalian matriks M x M x M."
   ]
  },
  {
   "cell_type": "markdown",
   "metadata": {},
   "source": [
    "#PENGURANGAN MATRIX"
   ]
  },
  {
   "cell_type": "code",
   "execution_count": 4,
   "metadata": {},
   "outputs": [
    {
     "name": "stdout",
     "output_type": "stream",
     "text": [
      "Hasil pengurangan matriks A - B - C adalah:\n",
      "[  21 -105  -32]\n"
     ]
    }
   ],
   "source": [
    "import numpy as np\n",
    "\n",
    "# Diketahui matriks A\n",
    "A = np.array([56, 4, 2])\n",
    "B = np.array([3, 43, 21])\n",
    "C = np.array([32, 66, 13])\n",
    "\n",
    "# Menghitung pengurangan matriks\n",
    "result = A - B - C\n",
    "\n",
    "# Menampilkan hasil\n",
    "print(\"Hasil pengurangan matriks A - B - C adalah:\")\n",
    "print(result)"
   ]
  },
  {
   "cell_type": "code",
   "execution_count": null,
   "metadata": {},
   "outputs": [],
   "source": [
    "PENJELASAN: \n",
    "1. Mengimport numpy yang merupakan pustaka Python yang digunakan untuk bekerja dengan array dan matriks.\n",
    "2. mendefinisikan tiga vektor A, B, dan C menggunakan np.array.\n",
    "3. Operasi A - B mengurangkan elemen-elemen vektor B dari elemen-elemen vektor A.\n",
    "Kemudian hasil dari A - B dikurangi lagi dengan elemen-elemen vektor C. \n",
    "CONTOH: Elemen pertama:56−3−32=21\n",
    "4. mencetak string \"Hasil pengurangan matriks A - B - C adalah:\" diikuti dengan hasil pengurangan vektor A, B, dan C."
   ]
  },
  {
   "cell_type": "markdown",
   "metadata": {},
   "source": [
    "#TRANSPOSE MATRIX"
   ]
  },
  {
   "cell_type": "code",
   "execution_count": 7,
   "metadata": {},
   "outputs": [
    {
     "name": "stdout",
     "output_type": "stream",
     "text": [
      "Transpose dari matriks A adalah:\n",
      "[[56  3 32]\n",
      " [ 4 43 66]\n",
      " [ 2 21 13]]\n"
     ]
    }
   ],
   "source": [
    "import numpy as np\n",
    "\n",
    "# Diketahui matriks A sebagai matriks 2D\n",
    "A = np.array([[56, 4, 2],\n",
    "              [3, 43, 21],\n",
    "              [32, 66, 13]])\n",
    "\n",
    "# Menghitung transpose matriks A\n",
    "transpose = np.transpose(A)\n",
    "\n",
    "# Menampilkan hasil\n",
    "print(\"Transpose dari matriks A adalah:\")\n",
    "print(transpose)"
   ]
  },
  {
   "cell_type": "code",
   "execution_count": null,
   "metadata": {},
   "outputs": [],
   "source": [
    "PENJELASAN: \n",
    "1. Mengimport numpy yang merupakan pustaka Python yang digunakan untuk bekerja dengan array dan matriks.\n",
    "2. mendefinisikan tiga vektor A, B, dan C menggunakan np.array.\n",
    "3. menghitung transpose dari matriks 2D\n",
    "4. mencetak string \"Transpose dari matriks A adalah:\" yang memindahkan posisi elemen-elemen string dari baris menjadi kolom \n"
   ]
  },
  {
   "cell_type": "markdown",
   "metadata": {},
   "source": [
    "#NILAI INVERS"
   ]
  },
  {
   "cell_type": "code",
   "execution_count": 8,
   "metadata": {},
   "outputs": [
    {
     "name": "stdout",
     "output_type": "stream",
     "text": [
      "Invers dari matriks M adalah:\n",
      "[[ 1.79252644e-02 -1.73400381e-03  4.33500954e-05]\n",
      " [-1.37203052e-02 -1.43922317e-02  2.53598058e-02]\n",
      " [ 2.55332062e-02  7.73365701e-02 -5.19334143e-02]]\n"
     ]
    }
   ],
   "source": [
    "import numpy as np\n",
    "\n",
    "# Diketahui vektor-vektor A, B, dan C\n",
    "A = np.array([56, 4, 2])\n",
    "B = np.array([3, 43, 21])\n",
    "C = np.array([32, 66, 13])\n",
    "\n",
    "# Membentuk matriks M dari vektor-vektor tersebut\n",
    "M = np.array([A, B, C])\n",
    "\n",
    "try:\n",
    "    # Menghitung invers matriks M\n",
    "    M_inv = np.linalg.inv(M)\n",
    "    print(\"Invers dari matriks M adalah:\")\n",
    "    print(M_inv)\n",
    "except np.linalg.LinAlgError:\n",
    "    print(\"Matriks tidak memiliki invers (determinannya nol).\")"
   ]
  },
  {
   "cell_type": "code",
   "execution_count": null,
   "metadata": {},
   "outputs": [],
   "source": [
    "PENJELASAN:\n",
    "1. Mengimpor NumPy dengan alias np.\n",
    "2. Mendefinisikan tiga vektor A, B, dan C.\n",
    "3. Membentuk matriks M dari vektor-vektor tersebut.\n",
    "4. Menghitung invers dari matriks M menggunakan np.linalg.inv(M).\n",
    "5. Mencetak hasil invers matriks M."
   ]
  },
  {
   "cell_type": "markdown",
   "metadata": {},
   "source": [
    "#NILAI DETERMINAN"
   ]
  },
  {
   "cell_type": "code",
   "execution_count": 9,
   "metadata": {},
   "outputs": [
    {
     "name": "stdout",
     "output_type": "stream",
     "text": [
      "Determinan dari matriks M adalah: -46136.000000000044\n"
     ]
    }
   ],
   "source": [
    "import numpy as np\n",
    "\n",
    "# Diketahui vektor-vektor A, B, dan C\n",
    "A = np.array([56, 4, 2])\n",
    "B = np.array([3, 43, 21])\n",
    "C = np.array([32, 66, 13])\n",
    "\n",
    "# Membentuk matriks M dari vektor-vektor tersebut\n",
    "M = np.array([A, B, C])\n",
    "\n",
    "# Menghitung determinan matriks\n",
    "det_M = np.linalg.det(M)\n",
    "\n",
    "# Menampilkan hasil\n",
    "print(f\"Determinan dari matriks M adalah: {det_M}\")"
   ]
  },
  {
   "cell_type": "code",
   "execution_count": null,
   "metadata": {},
   "outputs": [],
   "source": [
    "PENJELASAN: \n",
    "1. Mengimport numpy yang merupakan pustaka Python yang digunakan untuk bekerja dengan array dan matriks.\n",
    "2. mendefinisikan tiga vektor A, B, dan C menggunakan np.array.\n",
    "3. M = np.array([A, B, C]): ini menggabungkan vektor-vektor A, B, dan C menjadi satu matriks \n",
    "4. det_M = np.linalg.det(M): ini menghitung determinan dari matriks M menggunakan fungsi np.linalg.det() dari NumPy\n",
    "5. print(f\"Determinan dari matriks M adalah: {det_M}\"): ini mencetak hasil perhitungan determinan matriks M ke layar."
   ]
  }
 ],
 "metadata": {
  "kernelspec": {
   "display_name": "Python 3",
   "language": "python",
   "name": "python3"
  },
  "language_info": {
   "codemirror_mode": {
    "name": "ipython",
    "version": 3
   },
   "file_extension": ".py",
   "mimetype": "text/x-python",
   "name": "python",
   "nbconvert_exporter": "python",
   "pygments_lexer": "ipython3",
   "version": "3.12.2"
  }
 },
 "nbformat": 4,
 "nbformat_minor": 2
}
